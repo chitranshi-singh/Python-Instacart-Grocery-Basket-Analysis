{
 "cells": [
  {
   "cell_type": "markdown",
   "id": "e9e6ab47",
   "metadata": {},
   "source": [
    "# 01. Importing libraries"
   ]
  },
  {
   "cell_type": "code",
   "execution_count": 1,
   "id": "997fd0eb",
   "metadata": {},
   "outputs": [],
   "source": [
    "# Import libraries\n",
    "import pandas as pd\n",
    "import numpy as np\n",
    "import os"
   ]
  },
  {
   "cell_type": "markdown",
   "id": "d1d81c14",
   "metadata": {},
   "source": [
    "# 02. Data types"
   ]
  },
  {
   "cell_type": "code",
   "execution_count": 3,
   "id": "aafdd306",
   "metadata": {},
   "outputs": [],
   "source": [
    "x=10"
   ]
  },
  {
   "cell_type": "code",
   "execution_count": 4,
   "id": "fd076fc3",
   "metadata": {},
   "outputs": [],
   "source": [
    "x=x+90"
   ]
  },
  {
   "cell_type": "code",
   "execution_count": 5,
   "id": "b04d8013",
   "metadata": {},
   "outputs": [
    {
     "name": "stdout",
     "output_type": "stream",
     "text": [
      "100\n"
     ]
    }
   ],
   "source": [
    "print(x)"
   ]
  },
  {
   "cell_type": "code",
   "execution_count": 8,
   "id": "b885643f",
   "metadata": {},
   "outputs": [],
   "source": [
    "y=200"
   ]
  },
  {
   "cell_type": "code",
   "execution_count": 9,
   "id": "9deba909",
   "metadata": {},
   "outputs": [
    {
     "name": "stdout",
     "output_type": "stream",
     "text": [
      "100\n"
     ]
    }
   ],
   "source": [
    "print(y-x)"
   ]
  },
  {
   "cell_type": "code",
   "execution_count": 10,
   "id": "15d732ac",
   "metadata": {},
   "outputs": [],
   "source": [
    "z=10*10"
   ]
  },
  {
   "cell_type": "code",
   "execution_count": 11,
   "id": "ed8641f3",
   "metadata": {},
   "outputs": [
    {
     "name": "stdout",
     "output_type": "stream",
     "text": [
      "100\n"
     ]
    }
   ],
   "source": [
    "print(z)"
   ]
  },
  {
   "cell_type": "code",
   "execution_count": 12,
   "id": "5a83a46f",
   "metadata": {},
   "outputs": [],
   "source": [
    "a=56.78"
   ]
  },
  {
   "cell_type": "code",
   "execution_count": 13,
   "id": "117ee09c",
   "metadata": {},
   "outputs": [],
   "source": [
    "b=12.34"
   ]
  },
  {
   "cell_type": "code",
   "execution_count": 14,
   "id": "d53d64d3",
   "metadata": {},
   "outputs": [
    {
     "data": {
      "text/plain": [
       "4.60129659643436"
      ]
     },
     "execution_count": 14,
     "metadata": {},
     "output_type": "execute_result"
    }
   ],
   "source": [
    "a/b"
   ]
  },
  {
   "cell_type": "code",
   "execution_count": 16,
   "id": "4f72d3ee",
   "metadata": {},
   "outputs": [],
   "source": [
    "x='pa'"
   ]
  },
  {
   "cell_type": "code",
   "execution_count": 17,
   "id": "1671f9e9",
   "metadata": {},
   "outputs": [],
   "source": [
    "y='ya'"
   ]
  },
  {
   "cell_type": "code",
   "execution_count": 20,
   "id": "8f002e67",
   "metadata": {},
   "outputs": [
    {
     "data": {
      "text/plain": [
       "'papaya'"
      ]
     },
     "execution_count": 20,
     "metadata": {},
     "output_type": "execute_result"
    }
   ],
   "source": [
    "(x*2)+y"
   ]
  },
  {
   "cell_type": "code",
   "execution_count": 22,
   "id": "714906c6",
   "metadata": {},
   "outputs": [],
   "source": [
    "a='Hello, '"
   ]
  },
  {
   "cell_type": "code",
   "execution_count": 23,
   "id": "466cbf52",
   "metadata": {},
   "outputs": [],
   "source": [
    "b='world!'"
   ]
  },
  {
   "cell_type": "code",
   "execution_count": 24,
   "id": "39e6e5a7",
   "metadata": {},
   "outputs": [
    {
     "data": {
      "text/plain": [
       "'Hello, world!'"
      ]
     },
     "execution_count": 24,
     "metadata": {},
     "output_type": "execute_result"
    }
   ],
   "source": [
    "a+b"
   ]
  },
  {
   "cell_type": "code",
   "execution_count": 25,
   "id": "53d6aa2f",
   "metadata": {},
   "outputs": [],
   "source": [
    "x='apple'"
   ]
  },
  {
   "cell_type": "code",
   "execution_count": 26,
   "id": "50b15a17",
   "metadata": {},
   "outputs": [
    {
     "data": {
      "text/plain": [
       "'appleappleappleappleappleappleappleappleappleappleappleappleappleappleappleappleappleappleappleappleappleappleappleappleappleappleappleappleappleappleappleappleappleappleappleappleappleappleappleappleappleappleappleappleappleappleappleappleappleappleappleappleappleappleappleappleappleappleappleappleappleappleappleappleappleappleappleappleappleappleappleappleappleappleappleappleappleappleappleappleappleappleappleappleappleappleappleappleappleappleappleappleappleappleappleappleappleappleappleapple'"
      ]
     },
     "execution_count": 26,
     "metadata": {},
     "output_type": "execute_result"
    }
   ],
   "source": [
    "x*100"
   ]
  },
  {
   "cell_type": "code",
   "execution_count": null,
   "id": "8dda6b22",
   "metadata": {},
   "outputs": [],
   "source": []
  }
 ],
 "metadata": {
  "kernelspec": {
   "display_name": "Python 3 (ipykernel)",
   "language": "python",
   "name": "python3"
  },
  "language_info": {
   "codemirror_mode": {
    "name": "ipython",
    "version": 3
   },
   "file_extension": ".py",
   "mimetype": "text/x-python",
   "name": "python",
   "nbconvert_exporter": "python",
   "pygments_lexer": "ipython3",
   "version": "3.9.13"
  }
 },
 "nbformat": 4,
 "nbformat_minor": 5
}
